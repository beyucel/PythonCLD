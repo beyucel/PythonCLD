{
 "cells": [
  {
   "cell_type": "code",
   "execution_count": null,
   "metadata": {},
   "outputs": [],
   "source": [
    "from PIL import Image as im\n",
    "import numpy as np\n",
    "import matplotlib.pyplot as plt\n",
    "import matplotlib.image as mpimg\n",
    "import pandas as pd\n",
    "from scipy import ndimage\n",
    "import sys\n",
    "import numpy\n",
    "numpy.set_printoptions(threshold=sys.maxsize)\n",
    "%matplotlib inline\n",
    "## Check if it is binary or logical"
   ]
  },
  {
   "cell_type": "markdown",
   "metadata": {},
   "source": [
    "## Chord Length Distribution\n",
    "\n",
    "Chord length distribution (CLD) is one of the widely used methods to statistically represent the microstructure. The main reason for selecting CLD over other methods is chord length distribution has low computational cost and it contains grain size, shape distribution and their anisotropy information which are the main information to extract from our samples.\n",
    "\n",
    "Chords are defined as the line segments within grains whose endpoints lie at the grain boundaries. Length of each chord is defined as chord length, and the probability of finding a chord with a specified length is quantified by CLD\n",
    "\n",
    "<img src=\"Picture1.png\">"
   ]
  },
  {
   "cell_type": "markdown",
   "metadata": {},
   "source": [
    "# Chord Length Distribution  calculation for Dummy microstructure\n",
    "\n",
    "Let's first start with an easy 50x50 microstructure to understand the general concept of the chord length distribution calculation. Although this type of microstructure may not resemble a physical system, it provides solutions that give some intuitive understanding of chord length distribution."
   ]
  },
  {
   "cell_type": "code",
   "execution_count": null,
   "metadata": {},
   "outputs": [],
   "source": []
  },
  {
   "cell_type": "code",
   "execution_count": 1,
   "metadata": {},
   "outputs": [
    {
     "ename": "FileNotFoundError",
     "evalue": "[Errno 2] No such file or directory: 'bwimage.tif'",
     "output_type": "error",
     "traceback": [
      "\u001b[1;31m---------------------------------------------------------------------------\u001b[0m",
      "\u001b[1;31mFileNotFoundError\u001b[0m                         Traceback (most recent call last)",
      "\u001b[1;32m<ipython-input-1-dd3ac1b1b32c>\u001b[0m in \u001b[0;36m<module>\u001b[1;34m\u001b[0m\n\u001b[0;32m      1\u001b[0m \u001b[1;32mfrom\u001b[0m \u001b[0mPIL\u001b[0m \u001b[1;32mimport\u001b[0m \u001b[0mImage\u001b[0m\u001b[1;33m\u001b[0m\u001b[1;33m\u001b[0m\u001b[0m\n\u001b[1;32m----> 2\u001b[1;33m \u001b[0mim\u001b[0m \u001b[1;33m=\u001b[0m \u001b[0mImage\u001b[0m\u001b[1;33m.\u001b[0m\u001b[0mopen\u001b[0m\u001b[1;33m(\u001b[0m\u001b[1;34m'bwimage.tif'\u001b[0m\u001b[1;33m)\u001b[0m\u001b[1;33m\u001b[0m\u001b[1;33m\u001b[0m\u001b[0m\n\u001b[0m\u001b[0;32m      3\u001b[0m \u001b[0mim\u001b[0m\u001b[1;33m.\u001b[0m\u001b[0mshow\u001b[0m\u001b[1;33m(\u001b[0m\u001b[1;33m)\u001b[0m\u001b[1;33m\u001b[0m\u001b[1;33m\u001b[0m\u001b[0m\n",
      "\u001b[1;32m~\\anaconda3\\lib\\site-packages\\PIL\\Image.py\u001b[0m in \u001b[0;36mopen\u001b[1;34m(fp, mode)\u001b[0m\n\u001b[0;32m   2807\u001b[0m \u001b[1;33m\u001b[0m\u001b[0m\n\u001b[0;32m   2808\u001b[0m     \u001b[1;32mif\u001b[0m \u001b[0mfilename\u001b[0m\u001b[1;33m:\u001b[0m\u001b[1;33m\u001b[0m\u001b[1;33m\u001b[0m\u001b[0m\n\u001b[1;32m-> 2809\u001b[1;33m         \u001b[0mfp\u001b[0m \u001b[1;33m=\u001b[0m \u001b[0mbuiltins\u001b[0m\u001b[1;33m.\u001b[0m\u001b[0mopen\u001b[0m\u001b[1;33m(\u001b[0m\u001b[0mfilename\u001b[0m\u001b[1;33m,\u001b[0m \u001b[1;34m\"rb\"\u001b[0m\u001b[1;33m)\u001b[0m\u001b[1;33m\u001b[0m\u001b[1;33m\u001b[0m\u001b[0m\n\u001b[0m\u001b[0;32m   2810\u001b[0m         \u001b[0mexclusive_fp\u001b[0m \u001b[1;33m=\u001b[0m \u001b[1;32mTrue\u001b[0m\u001b[1;33m\u001b[0m\u001b[1;33m\u001b[0m\u001b[0m\n\u001b[0;32m   2811\u001b[0m \u001b[1;33m\u001b[0m\u001b[0m\n",
      "\u001b[1;31mFileNotFoundError\u001b[0m: [Errno 2] No such file or directory: 'bwimage.tif'"
     ]
    }
   ],
   "source": [
    ">>> from PIL import Image\n",
    ">>> im = Image.open('bwimage.tif')\n",
    ">>> im.show()"
   ]
  },
  {
   "cell_type": "code",
   "execution_count": null,
   "metadata": {},
   "outputs": [],
   "source": [
    "# First Import the Chord Lentgh distribution function\n",
    "from CLD import CLD\n",
    "\n",
    "# then load and visaulize the dummy microstructure\n",
    "img=mpimg.imread('bwimage.tiff')\n",
    "imgplot = plt.imshow(img)\n"
   ]
  },
  {
   "cell_type": "code",
   "execution_count": null,
   "metadata": {},
   "outputs": [],
   "source": [
    "# Then calculate the chord Length distribtuion in one of the orthogonal direction\n",
    "aa=CLD(img,'x')"
   ]
  },
  {
   "cell_type": "code",
   "execution_count": null,
   "metadata": {},
   "outputs": [],
   "source": [
    "print(aa[0])\n",
    "len(aa[0])"
   ]
  },
  {
   "cell_type": "code",
   "execution_count": null,
   "metadata": {},
   "outputs": [],
   "source": [
    "plt.bar(np.arange(1,len(aa[0])+1),aa[0])"
   ]
  },
  {
   "cell_type": "code",
   "execution_count": null,
   "metadata": {},
   "outputs": [],
   "source": [
    "np.arange(1,len(aa[0]))"
   ]
  },
  {
   "cell_type": "markdown",
   "metadata": {},
   "source": [
    "# Calculate the CLD for a real Microstructure\n",
    "Dummy microstructure can help us understand the general concept for calculating the chord length distribution,however obtaining CLD for real microstructure is crucial to visualize how CLD captures the information for a real microstructure."
   ]
  },
  {
   "cell_type": "code",
   "execution_count": null,
   "metadata": {},
   "outputs": [],
   "source": [
    "img=mpimg.imread('image.tiff')\n",
    "imgplot = plt.imshow(img)\n",
    "np.shape(img)"
   ]
  },
  {
   "cell_type": "code",
   "execution_count": null,
   "metadata": {},
   "outputs": [],
   "source": [
    "# Then calculate the chord Length distribtuion in one of the orthogonal direction\n",
    "CLD_img=CLD(img,'x')"
   ]
  },
  {
   "cell_type": "code",
   "execution_count": null,
   "metadata": {},
   "outputs": [],
   "source": [
    "plt.bar(np.arange(1,len(CLD_img[0])+1),CLD_img[0])\n",
    "plt.xlim([0.0, 200])"
   ]
  },
  {
   "cell_type": "markdown",
   "metadata": {},
   "source": [
    "# References\n",
    "[1] Popova, E., Rodgers, T.M., S.R. Kalidindi et al. Integr Mater Manuf Innov (2017) 6: 54. https://doi.org/10.1007/s40192-017-0088-1"
   ]
  },
  {
   "cell_type": "markdown",
   "metadata": {},
   "source": [
    "# Test cases"
   ]
  },
  {
   "cell_type": "code",
   "execution_count": null,
   "metadata": {},
   "outputs": [],
   "source": [
    "## Test set\n",
    "A1 = np.array([[0,0,0,0,0,0,0,0,0,0],\n",
    "              [0,0,1,1,1,0,0,0,0,0],\n",
    "              [0,0,1,1,1,0,0,0,0,0],\n",
    "              [0,0,1,1,1,0,0,0,0,0],\n",
    "              [0,0,0,0,0,0,0,0,0,0],\n",
    "              [0,1,1,1,0,0,0,0,0,0],\n",
    "              [0,1,1,1,0,0,1,1,1,0],\n",
    "              [0,1,1,1,0,0,1,1,1,0],\n",
    "              [0,0,0,0,0,0,1,1,1,0],\n",
    "              [0,0,0,0,0,0,0,0,0,0]])\n",
    "plt.imshow(A1)"
   ]
  },
  {
   "cell_type": "code",
   "execution_count": null,
   "metadata": {},
   "outputs": [],
   "source": [
    "CLDt1=CLD(A1,'x')"
   ]
  },
  {
   "cell_type": "code",
   "execution_count": null,
   "metadata": {},
   "outputs": [],
   "source": [
    "CLDt1"
   ]
  },
  {
   "cell_type": "code",
   "execution_count": null,
   "metadata": {},
   "outputs": [],
   "source": [
    "plt.bar(np.arange(1,len(CLDt1[0])+1),CLDt1[0])\n",
    "plt.xlim([0.0, 6])"
   ]
  },
  {
   "cell_type": "code",
   "execution_count": null,
   "metadata": {},
   "outputs": [],
   "source": [
    "A2 = np.array([[0,0,0,0,0,0,0,0,0,0],\n",
    "              [1,1,0,0,0,0,0,0,0,0],\n",
    "              [1,1,0,0,1,1,1,0,0,0],\n",
    "              [1,1,0,0,1,1,1,0,0,0],\n",
    "              [0,0,0,0,1,1,1,0,0,0],\n",
    "              [0,0,0,0,0,0,0,0,0,0],\n",
    "              [0,0,1,1,1,0,0,0,0,0],\n",
    "              [0,0,1,1,1,0,0,0,0,0],\n",
    "              [0,0,1,1,1,0,0,0,0,0],\n",
    "              [0,0,0,0,0,0,0,0,0,0]])\n",
    "plt.imshow(A2)"
   ]
  },
  {
   "cell_type": "code",
   "execution_count": null,
   "metadata": {},
   "outputs": [],
   "source": [
    "CLDt2=CLD(A2,'x')"
   ]
  },
  {
   "cell_type": "code",
   "execution_count": null,
   "metadata": {},
   "outputs": [],
   "source": [
    "CLDt2"
   ]
  },
  {
   "cell_type": "code",
   "execution_count": null,
   "metadata": {},
   "outputs": [],
   "source": []
  }
 ],
 "metadata": {
  "kernelspec": {
   "display_name": "Python 3",
   "language": "python",
   "name": "python3"
  },
  "language_info": {
   "codemirror_mode": {
    "name": "ipython",
    "version": 3
   },
   "file_extension": ".py",
   "mimetype": "text/x-python",
   "name": "python",
   "nbconvert_exporter": "python",
   "pygments_lexer": "ipython3",
   "version": "3.7.6"
  }
 },
 "nbformat": 4,
 "nbformat_minor": 2
}
